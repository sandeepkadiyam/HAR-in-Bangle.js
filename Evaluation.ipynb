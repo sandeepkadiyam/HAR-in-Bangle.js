{
 "cells": [
  {
   "cell_type": "markdown",
   "metadata": {},
   "source": [
    "Loading the dataset to perform 10-fold cross-validation evaluation"
   ]
  },
  {
   "cell_type": "code",
   "execution_count": null,
   "metadata": {},
   "outputs": [],
   "source": [
    "from Utils.LoadDataset import Dataloader\n",
    "\n",
    "dataset  = Dataloader(data_path = \"./Custom Dataset/Raw Data\",\n",
    "                  labels_path = \"./Custom Dataset/labels.csv\", \n",
    "                  seperator = \",\", test_ratio = 0.2, validation_ratio = 0.2,\n",
    "                  classnames=['running', 'walking', 'sitting', 'lying'])"
   ]
  },
  {
   "cell_type": "markdown",
   "metadata": {},
   "source": [
    "Creating the stratified folds for splitting the dataset into 10 folds."
   ]
  },
  {
   "cell_type": "code",
   "execution_count": null,
   "metadata": {},
   "outputs": [],
   "source": [
    "# Creating fold for training.\n",
    "\n",
    "from sklearn.model_selection import KFold,StratifiedKFold\n",
    "stratifiedKfold = StratifiedKFold(n_splits = 10, random_state = None, shuffle = True)"
   ]
  },
  {
   "cell_type": "markdown",
   "metadata": {},
   "source": [
    "Creating dictionaries for original model and the tflite model to access the precision, recall and f1-score of every class in the dataset."
   ]
  },
  {
   "cell_type": "code",
   "execution_count": null,
   "metadata": {},
   "outputs": [],
   "source": [
    "from collections import namedtuple, defaultdict\n",
    "\n",
    "model_metrics = defaultdict(dict)\n",
    "tflite_model_metrics = defaultdict(dict)\n",
    "metric_names = [\"precision\", \"recall\", \"f1-score\"]\n",
    "\n",
    "for classname in dataset.classnames:\n",
    "    for metric in metric_names:\n",
    "        model_metrics[classname][metric] = 0.0\n",
    "        tflite_model_metrics[classname][metric] = 0.0"
   ]
  },
  {
   "cell_type": "markdown",
   "metadata": {},
   "source": [
    "perfroming 10-fold cross-validation"
   ]
  },
  {
   "cell_type": "code",
   "execution_count": null,
   "metadata": {},
   "outputs": [],
   "source": [
    "import tensorflow as tf\n",
    "import tensorflow.keras as keras\n",
    "import numpy as np\n",
    "import sklearn\n",
    "from sklearn.model_selection import KFold,StratifiedKFold\n",
    "from Utils.Optimization import OptimizeModel\n",
    "\n",
    "fold_no = 0\n",
    "\n",
    "tf.random.set_seed(1)\n",
    "\n",
    "for train, test in stratifiedKfold.split(dataset.all.x, dataset.all.y):\n",
    "\n",
    "    model = keras.Sequential()\n",
    "    model.add(keras.Input(shape = (50, 1, 3), name = \"accelartion\"))\n",
    "    model.add(keras.layers.Conv2D(filters = 14, kernel_size = (5, 1), padding = \"valid\", activation = \"relu\"))\n",
    "    model.add(keras.layers.Dropout(0.2))\n",
    "    model.add(keras.layers.Conv2D(filters = len(dataset.classnames), kernel_size = (5, 1), padding = \"same\", \n",
    "                                  activation = \"relu\"))\n",
    "    model.add(keras.layers.Dropout(0.1))\n",
    "    model.add(keras.layers.MaxPool2D((46, 1)))\n",
    "    model.add(keras.layers.Flatten())\n",
    "\n",
    "    model.add(keras.layers.Dense(len(dataset.classnames), use_bias=True))\n",
    "\n",
    "    model.compile(optimizer=keras.optimizers.Adam(),\n",
    "                  loss=keras.losses.SparseCategoricalCrossentropy(from_logits=True),\n",
    "                  metrics=[keras.metrics.SparseCategoricalAccuracy()])\n",
    "    \n",
    "    print('------------------------------------------------------------------------')\n",
    "    print(f'Training for fold {fold_no} ...')\n",
    "    \n",
    "    model.fit(dataset.all.x[train], dataset.all.y[train],\n",
    "                    batch_size=64,\n",
    "                    epochs=100,\n",
    "                    verbose=0)\n",
    "    \n",
    "    model_predictions = model.predict(dataset.all.x[test])\n",
    "    model_labels = np.argmax(model_predictions, axis = -1)\n",
    "    \n",
    "    model_classification_report = sklearn.metrics.classification_report((dataset.all.y[test]), \n",
    "                                                                        model_labels,\n",
    "                                                                        target_names = (dataset.classnames), \n",
    "                                                                        digits = 4, \n",
    "                                                                        output_dict = True)\n",
    "    \n",
    "    for activity_name, metric_scores in model_classification_report.items():\n",
    "        \n",
    "        if activity_name in dataset.classnames:       \n",
    "            for metric, value in metric_scores.items():\n",
    "                \n",
    "                if metric in metric_names:             \n",
    "                    model_metrics[activity_name][metric] += model_classification_report[activity_name][metric]\n",
    "                else:\n",
    "                    continue\n",
    "        else:\n",
    "            continue\n",
    "    \n",
    "    tflite_converted_model = OptimizeModel(model, dataset, quantize = True, assertion = True)\n",
    "    tflite_model_predictions = tflite_converted_model.predict(dataset.all.x[test])\n",
    "    tflite_model_labels = np.argmax(tflite_model_predictions, axis = -1)\n",
    "    \n",
    "    tflite_model_classification_report = sklearn.metrics.classification_report((dataset.all.y[test]), \n",
    "                                                                        tflite_model_labels,\n",
    "                                                                        target_names = (dataset.classnames), \n",
    "                                                                        digits = 4, \n",
    "                                                                        output_dict = True)\n",
    "    \n",
    "    for activity_name, metric_scores in tflite_model_classification_report.items():\n",
    "        \n",
    "        if activity_name in dataset.classnames:       \n",
    "            for metric, value in metric_scores.items():\n",
    "                \n",
    "                if metric in metric_names:             \n",
    "                    tflite_model_metrics[activity_name][metric] += tflite_model_classification_report[activity_name][metric]\n",
    "                else:\n",
    "                    continue\n",
    "        else:\n",
    "            continue\n",
    "    \n",
    "    fold_no = fold_no + 1\n",
    "    "
   ]
  },
  {
   "cell_type": "markdown",
   "metadata": {},
   "source": [
    "The performance estimates of all the classes evaluated using 10-fold cross-validation are below,"
   ]
  },
  {
   "cell_type": "code",
   "execution_count": null,
   "metadata": {},
   "outputs": [],
   "source": [
    "model_metrics"
   ]
  },
  {
   "cell_type": "code",
   "execution_count": null,
   "metadata": {},
   "outputs": [],
   "source": [
    "tflite_model_metrics"
   ]
  },
  {
   "cell_type": "code",
   "execution_count": null,
   "metadata": {},
   "outputs": [],
   "source": []
  }
 ],
 "metadata": {
  "kernelspec": {
   "display_name": "Python 3",
   "language": "python",
   "name": "python3"
  },
  "language_info": {
   "codemirror_mode": {
    "name": "ipython",
    "version": 3
   },
   "file_extension": ".py",
   "mimetype": "text/x-python",
   "name": "python",
   "nbconvert_exporter": "python",
   "pygments_lexer": "ipython3",
   "version": "3.7.4"
  }
 },
 "nbformat": 4,
 "nbformat_minor": 2
}
