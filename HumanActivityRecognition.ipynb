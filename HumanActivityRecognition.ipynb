{
 "cells": [
  {
   "cell_type": "markdown",
   "metadata": {},
   "source": [
    "# Introduction"
   ]
  },
  {
   "cell_type": "markdown",
   "metadata": {},
   "source": [
    "### Preparing the Dataset\n",
    "\n",
    "The Dataloader loads the dataset and splits the dataset into train, test, and validation datasets. Dataloader class has the implementation of sliding window technique and stratified sampling technique."
   ]
  },
  {
   "cell_type": "code",
   "execution_count": null,
   "metadata": {},
   "outputs": [],
   "source": [
    "from Utils.LoadDataset import Dataloader\n",
    "\n",
    "dataset  = Dataloader(data_path = \"./Custom Dataset/Raw Data\",\n",
    "                  labels_path = \"./Custom Dataset/labels.csv\", \n",
    "                  seperator = \",\", test_ratio = 0.2, validation_ratio = 0.2,\n",
    "                  classnames=['running', 'walking', 'sitting', 'lying'])"
   ]
  },
  {
   "cell_type": "markdown",
   "metadata": {},
   "source": [
    "### Defining the Model\n",
    "\n",
    "The model developed for HAR in bangle.js is a simple convolutional neural network with two convolution layers, one max-pool layer, and a single dense layer. The first convolutional layer has fourteen kernels, and the number of kernels used in the second convolutional layer is equal to the number of class names."
   ]
  },
  {
   "cell_type": "code",
   "execution_count": null,
   "metadata": {},
   "outputs": [],
   "source": [
    "import tensorflow as tf\n",
    "import tensorflow.keras as keras\n",
    "\n",
    "tf.random.set_seed(1)\n",
    "\n",
    "model = keras.Sequential()\n",
    "model.add(keras.Input(shape = (50, 1, 3), name = \"accelartion\"))\n",
    "model.add(keras.layers.Conv2D(filters = 14, kernel_size = (5, 1), padding = \"valid\", activation = \"relu\"))\n",
    "model.add(keras.layers.Dropout(0.2))\n",
    "model.add(keras.layers.Conv2D(filters = len(dataset.classnames), kernel_size = (5, 1), padding = \"same\", activation = \"relu\"))\n",
    "model.add(keras.layers.Dropout(0.1))\n",
    "model.add(keras.layers.MaxPool2D((46, 1)))\n",
    "model.add(keras.layers.Flatten())\n",
    "\n",
    "model.add(keras.layers.Dense(len(dataset.classnames), use_bias=False))\n",
    "\n",
    "model.compile(optimizer=keras.optimizers.Adam(),\n",
    "              loss=keras.losses.SparseCategoricalCrossentropy(from_logits=True),\n",
    "              metrics=[keras.metrics.SparseCategoricalAccuracy()])"
   ]
  },
  {
   "cell_type": "markdown",
   "metadata": {},
   "source": [
    "### Training the Model\n",
    "\n",
    "Sparse categorical cross-entropy is used as the loss function to measure the loss, and the Adam optimizer is used as the optimization algorithm. The model trained on the training set and a validation dataset is used to fine-tune the model."
   ]
  },
  {
   "cell_type": "code",
   "execution_count": null,
   "metadata": {},
   "outputs": [],
   "source": [
    "model.fit(dataset.train.x, dataset.train.y,\n",
    "                    batch_size=64,\n",
    "                    epochs=200,\n",
    "                    verbose=1,\n",
    "                    validation_data=(dataset.validation.x, dataset.validation.y))"
   ]
  },
  {
   "cell_type": "markdown",
   "metadata": {},
   "source": [
    "### Optimizing the Model\n",
    "\n",
    "We optimize it using TensorFlow lite, reducing its size without losing much accuracy. The export class has the converter implementation. It also parses the tflite flatbuffer file and checks the operator compatibility for the microcontrollers to ensure that the TensorFlow Lite supports all the operators included in the current model."
   ]
  },
  {
   "cell_type": "code",
   "execution_count": null,
   "metadata": {},
   "outputs": [],
   "source": [
    "from Utils.Optimization import OptimizeModel\n",
    "\n",
    "tflite_converted_model = OptimizeModel(model, dataset, quantize = True, assertion = True)"
   ]
  },
  {
   "cell_type": "markdown",
   "metadata": {},
   "source": [
    "To check the size of the model,"
   ]
  },
  {
   "cell_type": "code",
   "execution_count": null,
   "metadata": {},
   "outputs": [],
   "source": [
    "print(tflite_converted_model.size_report())"
   ]
  },
  {
   "cell_type": "markdown",
   "metadata": {},
   "source": [
    "Before deploying the file, a base64 encoding is performed on the tflite flatbuffer file to avoid misinterpretation of data when transferred between different channels."
   ]
  },
  {
   "cell_type": "code",
   "execution_count": null,
   "metadata": {},
   "outputs": [],
   "source": [
    "tflite_converted_model.base64()"
   ]
  },
  {
   "cell_type": "markdown",
   "metadata": {},
   "source": [
    "### Model Deployment\n",
    "\n",
    "To deploy the model on the bangle.js. First, we need to require the \"Storage\" module and transfer the model using the write method. Then, connect to the watch via Bluetooth using the espruino web-based IDE and paste the below cell's output on the left-hand side pane of the espruino based IDE and click enter."
   ]
  },
  {
   "cell_type": "code",
   "execution_count": null,
   "metadata": {},
   "outputs": [],
   "source": [
    "print(f'require(\"Storage\").write(\".tfmodel\",atob(\"{tflite_converted_model.base64()}\"));')"
   ]
  },
  {
   "cell_type": "markdown",
   "metadata": {},
   "source": [
    "We also need the names of the activities to classify and display activity information on the watch. So we transfer the names of activities as a string."
   ]
  },
  {
   "cell_type": "code",
   "execution_count": null,
   "metadata": {},
   "outputs": [],
   "source": [
    "print(f'require(\"Storage\").write(\".tfnames\", \"running,walking,sitting,lying\");')"
   ]
  },
  {
   "cell_type": "code",
   "execution_count": null,
   "metadata": {},
   "outputs": [],
   "source": []
  }
 ],
 "metadata": {
  "kernelspec": {
   "display_name": "Python 3",
   "language": "python",
   "name": "python3"
  },
  "language_info": {
   "codemirror_mode": {
    "name": "ipython",
    "version": 3
   },
   "file_extension": ".py",
   "mimetype": "text/x-python",
   "name": "python",
   "nbconvert_exporter": "python",
   "pygments_lexer": "ipython3",
   "version": "3.7.4"
  }
 },
 "nbformat": 4,
 "nbformat_minor": 2
}
